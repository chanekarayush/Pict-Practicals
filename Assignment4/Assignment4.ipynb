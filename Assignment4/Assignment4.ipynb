{
 "cells": [
  {
   "cell_type": "markdown",
   "metadata": {},
   "source": [
    "# Assignment 4\n",
    "## Roll Number `31311`"
   ]
  },
  {
   "cell_type": "markdown",
   "metadata": {},
   "source": [
    "1. Use the inbuilt dataset 'titanic'. The dataset contains 891 rows and contains information about the passengers who boarded the unfortunate Titanic ship. \n",
    "    Use the Seaborn library to see if we can find any patterns in the data.\n",
    "2. Write a code to check how the price of the ticket (column name: 'fare') for each passenger is distributed by plotting a histogram.\n",
    "    The objective is to predict the value of prices of the house using the given features"
   ]
  },
  {
   "cell_type": "code",
   "execution_count": 75,
   "metadata": {},
   "outputs": [],
   "source": [
    "import pandas as pd\n",
    "import seaborn as sns\n",
    "import matplotlib.pyplot as plt\n",
    "import numpy as np\n",
    "import os "
   ]
  },
  {
   "cell_type": "code",
   "execution_count": 76,
   "metadata": {},
   "outputs": [
    {
     "data": {
      "text/plain": [
       "['Titanic-Dataset.csv', 'Assignment4.ipynb']"
      ]
     },
     "execution_count": 76,
     "metadata": {},
     "output_type": "execute_result"
    }
   ],
   "source": [
    "os.listdir()"
   ]
  },
  {
   "cell_type": "code",
   "execution_count": 77,
   "metadata": {},
   "outputs": [
    {
     "data": {
      "text/html": [
       "<div>\n",
       "<style scoped>\n",
       "    .dataframe tbody tr th:only-of-type {\n",
       "        vertical-align: middle;\n",
       "    }\n",
       "\n",
       "    .dataframe tbody tr th {\n",
       "        vertical-align: top;\n",
       "    }\n",
       "\n",
       "    .dataframe thead th {\n",
       "        text-align: right;\n",
       "    }\n",
       "</style>\n",
       "<table border=\"1\" class=\"dataframe\">\n",
       "  <thead>\n",
       "    <tr style=\"text-align: right;\">\n",
       "      <th></th>\n",
       "      <th>PassengerId</th>\n",
       "      <th>Survived</th>\n",
       "      <th>Pclass</th>\n",
       "      <th>Name</th>\n",
       "      <th>Sex</th>\n",
       "      <th>Age</th>\n",
       "      <th>SibSp</th>\n",
       "      <th>Parch</th>\n",
       "      <th>Ticket</th>\n",
       "      <th>Fare</th>\n",
       "      <th>Cabin</th>\n",
       "      <th>Embarked</th>\n",
       "    </tr>\n",
       "  </thead>\n",
       "  <tbody>\n",
       "    <tr>\n",
       "      <th>0</th>\n",
       "      <td>1</td>\n",
       "      <td>0</td>\n",
       "      <td>3</td>\n",
       "      <td>Braund, Mr. Owen Harris</td>\n",
       "      <td>male</td>\n",
       "      <td>22.0</td>\n",
       "      <td>1</td>\n",
       "      <td>0</td>\n",
       "      <td>A/5 21171</td>\n",
       "      <td>7.2500</td>\n",
       "      <td>NaN</td>\n",
       "      <td>S</td>\n",
       "    </tr>\n",
       "    <tr>\n",
       "      <th>1</th>\n",
       "      <td>2</td>\n",
       "      <td>1</td>\n",
       "      <td>1</td>\n",
       "      <td>Cumings, Mrs. John Bradley (Florence Briggs Th...</td>\n",
       "      <td>female</td>\n",
       "      <td>38.0</td>\n",
       "      <td>1</td>\n",
       "      <td>0</td>\n",
       "      <td>PC 17599</td>\n",
       "      <td>71.2833</td>\n",
       "      <td>C85</td>\n",
       "      <td>C</td>\n",
       "    </tr>\n",
       "    <tr>\n",
       "      <th>2</th>\n",
       "      <td>3</td>\n",
       "      <td>1</td>\n",
       "      <td>3</td>\n",
       "      <td>Heikkinen, Miss. Laina</td>\n",
       "      <td>female</td>\n",
       "      <td>26.0</td>\n",
       "      <td>0</td>\n",
       "      <td>0</td>\n",
       "      <td>STON/O2. 3101282</td>\n",
       "      <td>7.9250</td>\n",
       "      <td>NaN</td>\n",
       "      <td>S</td>\n",
       "    </tr>\n",
       "    <tr>\n",
       "      <th>3</th>\n",
       "      <td>4</td>\n",
       "      <td>1</td>\n",
       "      <td>1</td>\n",
       "      <td>Futrelle, Mrs. Jacques Heath (Lily May Peel)</td>\n",
       "      <td>female</td>\n",
       "      <td>35.0</td>\n",
       "      <td>1</td>\n",
       "      <td>0</td>\n",
       "      <td>113803</td>\n",
       "      <td>53.1000</td>\n",
       "      <td>C123</td>\n",
       "      <td>S</td>\n",
       "    </tr>\n",
       "    <tr>\n",
       "      <th>4</th>\n",
       "      <td>5</td>\n",
       "      <td>0</td>\n",
       "      <td>3</td>\n",
       "      <td>Allen, Mr. William Henry</td>\n",
       "      <td>male</td>\n",
       "      <td>35.0</td>\n",
       "      <td>0</td>\n",
       "      <td>0</td>\n",
       "      <td>373450</td>\n",
       "      <td>8.0500</td>\n",
       "      <td>NaN</td>\n",
       "      <td>S</td>\n",
       "    </tr>\n",
       "  </tbody>\n",
       "</table>\n",
       "</div>"
      ],
      "text/plain": [
       "   PassengerId  Survived  Pclass  \\\n",
       "0            1         0       3   \n",
       "1            2         1       1   \n",
       "2            3         1       3   \n",
       "3            4         1       1   \n",
       "4            5         0       3   \n",
       "\n",
       "                                                Name     Sex   Age  SibSp  \\\n",
       "0                            Braund, Mr. Owen Harris    male  22.0      1   \n",
       "1  Cumings, Mrs. John Bradley (Florence Briggs Th...  female  38.0      1   \n",
       "2                             Heikkinen, Miss. Laina  female  26.0      0   \n",
       "3       Futrelle, Mrs. Jacques Heath (Lily May Peel)  female  35.0      1   \n",
       "4                           Allen, Mr. William Henry    male  35.0      0   \n",
       "\n",
       "   Parch            Ticket     Fare Cabin Embarked  \n",
       "0      0         A/5 21171   7.2500   NaN        S  \n",
       "1      0          PC 17599  71.2833   C85        C  \n",
       "2      0  STON/O2. 3101282   7.9250   NaN        S  \n",
       "3      0            113803  53.1000  C123        S  \n",
       "4      0            373450   8.0500   NaN        S  "
      ]
     },
     "execution_count": 77,
     "metadata": {},
     "output_type": "execute_result"
    }
   ],
   "source": [
    "df = pd.read_csv(\"./Titanic-Dataset.csv\")\n",
    "df.head()"
   ]
  },
  {
   "cell_type": "code",
   "execution_count": 78,
   "metadata": {},
   "outputs": [
    {
     "data": {
      "text/plain": [
       "(891, 12)"
      ]
     },
     "execution_count": 78,
     "metadata": {},
     "output_type": "execute_result"
    }
   ],
   "source": [
    "df.shape"
   ]
  },
  {
   "cell_type": "code",
   "execution_count": 79,
   "metadata": {},
   "outputs": [
    {
     "data": {
      "text/html": [
       "<div>\n",
       "<style scoped>\n",
       "    .dataframe tbody tr th:only-of-type {\n",
       "        vertical-align: middle;\n",
       "    }\n",
       "\n",
       "    .dataframe tbody tr th {\n",
       "        vertical-align: top;\n",
       "    }\n",
       "\n",
       "    .dataframe thead th {\n",
       "        text-align: right;\n",
       "    }\n",
       "</style>\n",
       "<table border=\"1\" class=\"dataframe\">\n",
       "  <thead>\n",
       "    <tr style=\"text-align: right;\">\n",
       "      <th></th>\n",
       "      <th>count</th>\n",
       "      <th>unique</th>\n",
       "      <th>top</th>\n",
       "      <th>freq</th>\n",
       "      <th>mean</th>\n",
       "      <th>std</th>\n",
       "      <th>min</th>\n",
       "      <th>25%</th>\n",
       "      <th>50%</th>\n",
       "      <th>75%</th>\n",
       "      <th>max</th>\n",
       "    </tr>\n",
       "  </thead>\n",
       "  <tbody>\n",
       "    <tr>\n",
       "      <th>PassengerId</th>\n",
       "      <td>891.0</td>\n",
       "      <td>NaN</td>\n",
       "      <td>NaN</td>\n",
       "      <td>NaN</td>\n",
       "      <td>446.0</td>\n",
       "      <td>257.353842</td>\n",
       "      <td>1.0</td>\n",
       "      <td>223.5</td>\n",
       "      <td>446.0</td>\n",
       "      <td>668.5</td>\n",
       "      <td>891.0</td>\n",
       "    </tr>\n",
       "    <tr>\n",
       "      <th>Survived</th>\n",
       "      <td>891.0</td>\n",
       "      <td>NaN</td>\n",
       "      <td>NaN</td>\n",
       "      <td>NaN</td>\n",
       "      <td>0.383838</td>\n",
       "      <td>0.486592</td>\n",
       "      <td>0.0</td>\n",
       "      <td>0.0</td>\n",
       "      <td>0.0</td>\n",
       "      <td>1.0</td>\n",
       "      <td>1.0</td>\n",
       "    </tr>\n",
       "    <tr>\n",
       "      <th>Pclass</th>\n",
       "      <td>891.0</td>\n",
       "      <td>NaN</td>\n",
       "      <td>NaN</td>\n",
       "      <td>NaN</td>\n",
       "      <td>2.308642</td>\n",
       "      <td>0.836071</td>\n",
       "      <td>1.0</td>\n",
       "      <td>2.0</td>\n",
       "      <td>3.0</td>\n",
       "      <td>3.0</td>\n",
       "      <td>3.0</td>\n",
       "    </tr>\n",
       "    <tr>\n",
       "      <th>Name</th>\n",
       "      <td>891</td>\n",
       "      <td>891</td>\n",
       "      <td>Braund, Mr. Owen Harris</td>\n",
       "      <td>1</td>\n",
       "      <td>NaN</td>\n",
       "      <td>NaN</td>\n",
       "      <td>NaN</td>\n",
       "      <td>NaN</td>\n",
       "      <td>NaN</td>\n",
       "      <td>NaN</td>\n",
       "      <td>NaN</td>\n",
       "    </tr>\n",
       "    <tr>\n",
       "      <th>Sex</th>\n",
       "      <td>891</td>\n",
       "      <td>2</td>\n",
       "      <td>male</td>\n",
       "      <td>577</td>\n",
       "      <td>NaN</td>\n",
       "      <td>NaN</td>\n",
       "      <td>NaN</td>\n",
       "      <td>NaN</td>\n",
       "      <td>NaN</td>\n",
       "      <td>NaN</td>\n",
       "      <td>NaN</td>\n",
       "    </tr>\n",
       "    <tr>\n",
       "      <th>Age</th>\n",
       "      <td>714.0</td>\n",
       "      <td>NaN</td>\n",
       "      <td>NaN</td>\n",
       "      <td>NaN</td>\n",
       "      <td>29.699118</td>\n",
       "      <td>14.526497</td>\n",
       "      <td>0.42</td>\n",
       "      <td>20.125</td>\n",
       "      <td>28.0</td>\n",
       "      <td>38.0</td>\n",
       "      <td>80.0</td>\n",
       "    </tr>\n",
       "    <tr>\n",
       "      <th>SibSp</th>\n",
       "      <td>891.0</td>\n",
       "      <td>NaN</td>\n",
       "      <td>NaN</td>\n",
       "      <td>NaN</td>\n",
       "      <td>0.523008</td>\n",
       "      <td>1.102743</td>\n",
       "      <td>0.0</td>\n",
       "      <td>0.0</td>\n",
       "      <td>0.0</td>\n",
       "      <td>1.0</td>\n",
       "      <td>8.0</td>\n",
       "    </tr>\n",
       "    <tr>\n",
       "      <th>Parch</th>\n",
       "      <td>891.0</td>\n",
       "      <td>NaN</td>\n",
       "      <td>NaN</td>\n",
       "      <td>NaN</td>\n",
       "      <td>0.381594</td>\n",
       "      <td>0.806057</td>\n",
       "      <td>0.0</td>\n",
       "      <td>0.0</td>\n",
       "      <td>0.0</td>\n",
       "      <td>0.0</td>\n",
       "      <td>6.0</td>\n",
       "    </tr>\n",
       "    <tr>\n",
       "      <th>Ticket</th>\n",
       "      <td>891</td>\n",
       "      <td>681</td>\n",
       "      <td>347082</td>\n",
       "      <td>7</td>\n",
       "      <td>NaN</td>\n",
       "      <td>NaN</td>\n",
       "      <td>NaN</td>\n",
       "      <td>NaN</td>\n",
       "      <td>NaN</td>\n",
       "      <td>NaN</td>\n",
       "      <td>NaN</td>\n",
       "    </tr>\n",
       "    <tr>\n",
       "      <th>Fare</th>\n",
       "      <td>891.0</td>\n",
       "      <td>NaN</td>\n",
       "      <td>NaN</td>\n",
       "      <td>NaN</td>\n",
       "      <td>32.204208</td>\n",
       "      <td>49.693429</td>\n",
       "      <td>0.0</td>\n",
       "      <td>7.9104</td>\n",
       "      <td>14.4542</td>\n",
       "      <td>31.0</td>\n",
       "      <td>512.3292</td>\n",
       "    </tr>\n",
       "    <tr>\n",
       "      <th>Cabin</th>\n",
       "      <td>204</td>\n",
       "      <td>147</td>\n",
       "      <td>B96 B98</td>\n",
       "      <td>4</td>\n",
       "      <td>NaN</td>\n",
       "      <td>NaN</td>\n",
       "      <td>NaN</td>\n",
       "      <td>NaN</td>\n",
       "      <td>NaN</td>\n",
       "      <td>NaN</td>\n",
       "      <td>NaN</td>\n",
       "    </tr>\n",
       "    <tr>\n",
       "      <th>Embarked</th>\n",
       "      <td>889</td>\n",
       "      <td>3</td>\n",
       "      <td>S</td>\n",
       "      <td>644</td>\n",
       "      <td>NaN</td>\n",
       "      <td>NaN</td>\n",
       "      <td>NaN</td>\n",
       "      <td>NaN</td>\n",
       "      <td>NaN</td>\n",
       "      <td>NaN</td>\n",
       "      <td>NaN</td>\n",
       "    </tr>\n",
       "  </tbody>\n",
       "</table>\n",
       "</div>"
      ],
      "text/plain": [
       "             count unique                      top freq       mean  \\\n",
       "PassengerId  891.0    NaN                      NaN  NaN      446.0   \n",
       "Survived     891.0    NaN                      NaN  NaN   0.383838   \n",
       "Pclass       891.0    NaN                      NaN  NaN   2.308642   \n",
       "Name           891    891  Braund, Mr. Owen Harris    1        NaN   \n",
       "Sex            891      2                     male  577        NaN   \n",
       "Age          714.0    NaN                      NaN  NaN  29.699118   \n",
       "SibSp        891.0    NaN                      NaN  NaN   0.523008   \n",
       "Parch        891.0    NaN                      NaN  NaN   0.381594   \n",
       "Ticket         891    681                   347082    7        NaN   \n",
       "Fare         891.0    NaN                      NaN  NaN  32.204208   \n",
       "Cabin          204    147                  B96 B98    4        NaN   \n",
       "Embarked       889      3                        S  644        NaN   \n",
       "\n",
       "                    std   min     25%      50%    75%       max  \n",
       "PassengerId  257.353842   1.0   223.5    446.0  668.5     891.0  \n",
       "Survived       0.486592   0.0     0.0      0.0    1.0       1.0  \n",
       "Pclass         0.836071   1.0     2.0      3.0    3.0       3.0  \n",
       "Name                NaN   NaN     NaN      NaN    NaN       NaN  \n",
       "Sex                 NaN   NaN     NaN      NaN    NaN       NaN  \n",
       "Age           14.526497  0.42  20.125     28.0   38.0      80.0  \n",
       "SibSp          1.102743   0.0     0.0      0.0    1.0       8.0  \n",
       "Parch          0.806057   0.0     0.0      0.0    0.0       6.0  \n",
       "Ticket              NaN   NaN     NaN      NaN    NaN       NaN  \n",
       "Fare          49.693429   0.0  7.9104  14.4542   31.0  512.3292  \n",
       "Cabin               NaN   NaN     NaN      NaN    NaN       NaN  \n",
       "Embarked            NaN   NaN     NaN      NaN    NaN       NaN  "
      ]
     },
     "metadata": {},
     "output_type": "display_data"
    }
   ],
   "source": [
    "def display_all(dataFrame : pd.DataFrame):\n",
    "    with pd.option_context('display.max_rows', 1000, 'display.max_columns', 1000):\n",
    "        display(dataFrame.T)\n",
    "\n",
    "display_all(df.describe(include='all'))"
   ]
  },
  {
   "cell_type": "code",
   "execution_count": 80,
   "metadata": {},
   "outputs": [
    {
     "data": {
      "text/plain": [
       "PassengerId      0\n",
       "Survived         0\n",
       "Pclass           0\n",
       "Name             0\n",
       "Sex              0\n",
       "Age            177\n",
       "SibSp            0\n",
       "Parch            0\n",
       "Ticket           0\n",
       "Fare             0\n",
       "Cabin          687\n",
       "Embarked         2\n",
       "dtype: int64"
      ]
     },
     "execution_count": 80,
     "metadata": {},
     "output_type": "execute_result"
    }
   ],
   "source": [
    "df.isnull().sum()"
   ]
  },
  {
   "cell_type": "code",
   "execution_count": 81,
   "metadata": {},
   "outputs": [
    {
     "data": {
      "text/plain": [
       "Survived\n",
       "0    549\n",
       "1    342\n",
       "Name: count, dtype: int64"
      ]
     },
     "execution_count": 81,
     "metadata": {},
     "output_type": "execute_result"
    }
   ],
   "source": [
    "df['Survived'].value_counts()"
   ]
  },
  {
   "cell_type": "markdown",
   "metadata": {},
   "source": [
    "## 1. Imputing missing values\n",
    "### The titanic dataset has a LOT of missing values\n",
    "#### I could not find the test and train splits so this dataset from the `COMPUTER DEPARTMENT PORTAL` will be used\n"
   ]
  },
  {
   "cell_type": "markdown",
   "metadata": {},
   "source": [
    "- `Age` column has **177** missing values \n",
    "- `Cabin` column has **687** missing values"
   ]
  },
  {
   "cell_type": "markdown",
   "metadata": {},
   "source": [
    "### 1.1 Impute the missing age values\n",
    "- A simple option here would be to give each missing value the median age. \n",
    "- But that would be BORING! Not to mention inaccurate\n",
    "- We know that the `name` column contains the titles for each person i.e., Mr., Mrs., Ms., Dr., Miss and Master\n",
    "- So let's use these titles and put median values of these for a much more accurate imputation "
   ]
  },
  {
   "cell_type": "code",
   "execution_count": 82,
   "metadata": {},
   "outputs": [
    {
     "name": "stderr",
     "output_type": "stream",
     "text": [
      "<>:1: SyntaxWarning: invalid escape sequence '\\.'\n",
      "<>:1: SyntaxWarning: invalid escape sequence '\\.'\n",
      "/tmp/ipykernel_9125/2813372668.py:1: SyntaxWarning: invalid escape sequence '\\.'\n",
      "  df['Title'] = df['Name'].str.extract('([A-Za-z]+)\\.', expand=True)\n"
     ]
    }
   ],
   "source": [
    "df['Title'] = df['Name'].str.extract('([A-Za-z]+)\\.', expand=True)"
   ]
  },
  {
   "cell_type": "code",
   "execution_count": 83,
   "metadata": {},
   "outputs": [
    {
     "data": {
      "text/html": [
       "<div>\n",
       "<style scoped>\n",
       "    .dataframe tbody tr th:only-of-type {\n",
       "        vertical-align: middle;\n",
       "    }\n",
       "\n",
       "    .dataframe tbody tr th {\n",
       "        vertical-align: top;\n",
       "    }\n",
       "\n",
       "    .dataframe thead th {\n",
       "        text-align: right;\n",
       "    }\n",
       "</style>\n",
       "<table border=\"1\" class=\"dataframe\">\n",
       "  <thead>\n",
       "    <tr style=\"text-align: right;\">\n",
       "      <th></th>\n",
       "      <th>PassengerId</th>\n",
       "      <th>Survived</th>\n",
       "      <th>Pclass</th>\n",
       "      <th>Name</th>\n",
       "      <th>Sex</th>\n",
       "      <th>Age</th>\n",
       "      <th>SibSp</th>\n",
       "      <th>Parch</th>\n",
       "      <th>Ticket</th>\n",
       "      <th>Fare</th>\n",
       "      <th>Cabin</th>\n",
       "      <th>Embarked</th>\n",
       "      <th>Title</th>\n",
       "    </tr>\n",
       "  </thead>\n",
       "  <tbody>\n",
       "    <tr>\n",
       "      <th>264</th>\n",
       "      <td>265</td>\n",
       "      <td>0</td>\n",
       "      <td>3</td>\n",
       "      <td>Henry, Miss. Delia</td>\n",
       "      <td>female</td>\n",
       "      <td>NaN</td>\n",
       "      <td>0</td>\n",
       "      <td>0</td>\n",
       "      <td>382649</td>\n",
       "      <td>7.7500</td>\n",
       "      <td>NaN</td>\n",
       "      <td>Q</td>\n",
       "      <td>Miss</td>\n",
       "    </tr>\n",
       "    <tr>\n",
       "      <th>749</th>\n",
       "      <td>750</td>\n",
       "      <td>0</td>\n",
       "      <td>3</td>\n",
       "      <td>Connaghton, Mr. Michael</td>\n",
       "      <td>male</td>\n",
       "      <td>31.0</td>\n",
       "      <td>0</td>\n",
       "      <td>0</td>\n",
       "      <td>335097</td>\n",
       "      <td>7.7500</td>\n",
       "      <td>NaN</td>\n",
       "      <td>Q</td>\n",
       "      <td>Mr</td>\n",
       "    </tr>\n",
       "    <tr>\n",
       "      <th>566</th>\n",
       "      <td>567</td>\n",
       "      <td>0</td>\n",
       "      <td>3</td>\n",
       "      <td>Stoytcheff, Mr. Ilia</td>\n",
       "      <td>male</td>\n",
       "      <td>19.0</td>\n",
       "      <td>0</td>\n",
       "      <td>0</td>\n",
       "      <td>349205</td>\n",
       "      <td>7.8958</td>\n",
       "      <td>NaN</td>\n",
       "      <td>S</td>\n",
       "      <td>Mr</td>\n",
       "    </tr>\n",
       "    <tr>\n",
       "      <th>17</th>\n",
       "      <td>18</td>\n",
       "      <td>1</td>\n",
       "      <td>2</td>\n",
       "      <td>Williams, Mr. Charles Eugene</td>\n",
       "      <td>male</td>\n",
       "      <td>NaN</td>\n",
       "      <td>0</td>\n",
       "      <td>0</td>\n",
       "      <td>244373</td>\n",
       "      <td>13.0000</td>\n",
       "      <td>NaN</td>\n",
       "      <td>S</td>\n",
       "      <td>Mr</td>\n",
       "    </tr>\n",
       "    <tr>\n",
       "      <th>21</th>\n",
       "      <td>22</td>\n",
       "      <td>1</td>\n",
       "      <td>2</td>\n",
       "      <td>Beesley, Mr. Lawrence</td>\n",
       "      <td>male</td>\n",
       "      <td>34.0</td>\n",
       "      <td>0</td>\n",
       "      <td>0</td>\n",
       "      <td>248698</td>\n",
       "      <td>13.0000</td>\n",
       "      <td>D56</td>\n",
       "      <td>S</td>\n",
       "      <td>Mr</td>\n",
       "    </tr>\n",
       "  </tbody>\n",
       "</table>\n",
       "</div>"
      ],
      "text/plain": [
       "     PassengerId  Survived  Pclass                          Name     Sex  \\\n",
       "264          265         0       3            Henry, Miss. Delia  female   \n",
       "749          750         0       3       Connaghton, Mr. Michael    male   \n",
       "566          567         0       3          Stoytcheff, Mr. Ilia    male   \n",
       "17            18         1       2  Williams, Mr. Charles Eugene    male   \n",
       "21            22         1       2         Beesley, Mr. Lawrence    male   \n",
       "\n",
       "      Age  SibSp  Parch  Ticket     Fare Cabin Embarked Title  \n",
       "264   NaN      0      0  382649   7.7500   NaN        Q  Miss  \n",
       "749  31.0      0      0  335097   7.7500   NaN        Q    Mr  \n",
       "566  19.0      0      0  349205   7.8958   NaN        S    Mr  \n",
       "17    NaN      0      0  244373  13.0000   NaN        S    Mr  \n",
       "21   34.0      0      0  248698  13.0000   D56        S    Mr  "
      ]
     },
     "execution_count": 83,
     "metadata": {},
     "output_type": "execute_result"
    }
   ],
   "source": [
    "df.sample(5)"
   ]
  },
  {
   "cell_type": "code",
   "execution_count": 84,
   "metadata": {},
   "outputs": [
    {
     "data": {
      "text/plain": [
       "Title\n",
       "Mr          517\n",
       "Miss        182\n",
       "Mrs         125\n",
       "Master       40\n",
       "Dr            7\n",
       "Rev           6\n",
       "Mlle          2\n",
       "Major         2\n",
       "Col           2\n",
       "Countess      1\n",
       "Capt          1\n",
       "Ms            1\n",
       "Sir           1\n",
       "Lady          1\n",
       "Mme           1\n",
       "Don           1\n",
       "Jonkheer      1\n",
       "Name: count, dtype: int64"
      ]
     },
     "execution_count": 84,
     "metadata": {},
     "output_type": "execute_result"
    }
   ],
   "source": [
    "df['Title'].value_counts(sort=True)"
   ]
  },
  {
   "cell_type": "markdown",
   "metadata": {},
   "source": [
    "- Here titles like `Ms`, `Mme`, `Lady` refer to the Miss or Mrs. so we'll generalise them. \n",
    "- These mappings will replace the existing ones so that we have some uniformity"
   ]
  },
  {
   "cell_type": "code",
   "execution_count": 85,
   "metadata": {},
   "outputs": [],
   "source": [
    "title_maps = {\n",
    "    'Mlle': 'Miss', 'Major': 'Mr', 'Col': 'Mr', 'Sir': 'Mr',\n",
    "    'Don': 'Mr', 'Mme': 'Mrs', 'Jonkheer': 'Mr', 'Lady': 'Mrs',\n",
    "    'Capt': 'Mr', 'Countess': 'Mrs', 'Ms': 'Miss', 'Dona': 'Mrs'\n",
    "    }\n",
    "# Replacing the titles with generic ones here, sp we'll have only 6 titles to deal with\n",
    "df.replace({'Title':title_maps}, inplace=True)"
   ]
  },
  {
   "cell_type": "code",
   "execution_count": 86,
   "metadata": {},
   "outputs": [
    {
     "data": {
      "text/plain": [
       "Title\n",
       "Mr        525\n",
       "Miss      185\n",
       "Mrs       128\n",
       "Master     40\n",
       "Dr          7\n",
       "Rev         6\n",
       "Name: count, dtype: int64"
      ]
     },
     "execution_count": 86,
     "metadata": {},
     "output_type": "execute_result"
    }
   ],
   "source": [
    "df['Title'].value_counts(sort=True)"
   ]
  },
  {
   "cell_type": "markdown",
   "metadata": {},
   "source": [
    "**Median of title group**\n",
    "\n",
    "To find the age, we will use the median of the title group"
   ]
  },
  {
   "cell_type": "code",
   "execution_count": 87,
   "metadata": {},
   "outputs": [],
   "source": [
    "age_by_title = dict(df.groupby('Title')['Age'].median())\n",
    "df['median_age'] = df['Title'].apply(lambda x: age_by_title[x])\n",
    "\n",
    "df.fillna({'Age': df['median_age']}, inplace=True)"
   ]
  },
  {
   "cell_type": "code",
   "execution_count": 88,
   "metadata": {},
   "outputs": [
    {
     "data": {
      "text/html": [
       "<div>\n",
       "<style scoped>\n",
       "    .dataframe tbody tr th:only-of-type {\n",
       "        vertical-align: middle;\n",
       "    }\n",
       "\n",
       "    .dataframe tbody tr th {\n",
       "        vertical-align: top;\n",
       "    }\n",
       "\n",
       "    .dataframe thead th {\n",
       "        text-align: right;\n",
       "    }\n",
       "</style>\n",
       "<table border=\"1\" class=\"dataframe\">\n",
       "  <thead>\n",
       "    <tr style=\"text-align: right;\">\n",
       "      <th></th>\n",
       "      <th>PassengerId</th>\n",
       "      <th>Survived</th>\n",
       "      <th>Pclass</th>\n",
       "      <th>Name</th>\n",
       "      <th>Sex</th>\n",
       "      <th>Age</th>\n",
       "      <th>SibSp</th>\n",
       "      <th>Parch</th>\n",
       "      <th>Ticket</th>\n",
       "      <th>Fare</th>\n",
       "      <th>Cabin</th>\n",
       "      <th>Embarked</th>\n",
       "      <th>Title</th>\n",
       "    </tr>\n",
       "  </thead>\n",
       "  <tbody>\n",
       "    <tr>\n",
       "      <th>0</th>\n",
       "      <td>1</td>\n",
       "      <td>0</td>\n",
       "      <td>3</td>\n",
       "      <td>Braund, Mr. Owen Harris</td>\n",
       "      <td>male</td>\n",
       "      <td>22.0</td>\n",
       "      <td>1</td>\n",
       "      <td>0</td>\n",
       "      <td>A/5 21171</td>\n",
       "      <td>7.2500</td>\n",
       "      <td>NaN</td>\n",
       "      <td>S</td>\n",
       "      <td>Mr</td>\n",
       "    </tr>\n",
       "    <tr>\n",
       "      <th>1</th>\n",
       "      <td>2</td>\n",
       "      <td>1</td>\n",
       "      <td>1</td>\n",
       "      <td>Cumings, Mrs. John Bradley (Florence Briggs Th...</td>\n",
       "      <td>female</td>\n",
       "      <td>38.0</td>\n",
       "      <td>1</td>\n",
       "      <td>0</td>\n",
       "      <td>PC 17599</td>\n",
       "      <td>71.2833</td>\n",
       "      <td>C85</td>\n",
       "      <td>C</td>\n",
       "      <td>Mrs</td>\n",
       "    </tr>\n",
       "    <tr>\n",
       "      <th>2</th>\n",
       "      <td>3</td>\n",
       "      <td>1</td>\n",
       "      <td>3</td>\n",
       "      <td>Heikkinen, Miss. Laina</td>\n",
       "      <td>female</td>\n",
       "      <td>26.0</td>\n",
       "      <td>0</td>\n",
       "      <td>0</td>\n",
       "      <td>STON/O2. 3101282</td>\n",
       "      <td>7.9250</td>\n",
       "      <td>NaN</td>\n",
       "      <td>S</td>\n",
       "      <td>Miss</td>\n",
       "    </tr>\n",
       "    <tr>\n",
       "      <th>3</th>\n",
       "      <td>4</td>\n",
       "      <td>1</td>\n",
       "      <td>1</td>\n",
       "      <td>Futrelle, Mrs. Jacques Heath (Lily May Peel)</td>\n",
       "      <td>female</td>\n",
       "      <td>35.0</td>\n",
       "      <td>1</td>\n",
       "      <td>0</td>\n",
       "      <td>113803</td>\n",
       "      <td>53.1000</td>\n",
       "      <td>C123</td>\n",
       "      <td>S</td>\n",
       "      <td>Mrs</td>\n",
       "    </tr>\n",
       "    <tr>\n",
       "      <th>4</th>\n",
       "      <td>5</td>\n",
       "      <td>0</td>\n",
       "      <td>3</td>\n",
       "      <td>Allen, Mr. William Henry</td>\n",
       "      <td>male</td>\n",
       "      <td>35.0</td>\n",
       "      <td>0</td>\n",
       "      <td>0</td>\n",
       "      <td>373450</td>\n",
       "      <td>8.0500</td>\n",
       "      <td>NaN</td>\n",
       "      <td>S</td>\n",
       "      <td>Mr</td>\n",
       "    </tr>\n",
       "  </tbody>\n",
       "</table>\n",
       "</div>"
      ],
      "text/plain": [
       "   PassengerId  Survived  Pclass  \\\n",
       "0            1         0       3   \n",
       "1            2         1       1   \n",
       "2            3         1       3   \n",
       "3            4         1       1   \n",
       "4            5         0       3   \n",
       "\n",
       "                                                Name     Sex   Age  SibSp  \\\n",
       "0                            Braund, Mr. Owen Harris    male  22.0      1   \n",
       "1  Cumings, Mrs. John Bradley (Florence Briggs Th...  female  38.0      1   \n",
       "2                             Heikkinen, Miss. Laina  female  26.0      0   \n",
       "3       Futrelle, Mrs. Jacques Heath (Lily May Peel)  female  35.0      1   \n",
       "4                           Allen, Mr. William Henry    male  35.0      0   \n",
       "\n",
       "   Parch            Ticket     Fare Cabin Embarked Title  \n",
       "0      0         A/5 21171   7.2500   NaN        S    Mr  \n",
       "1      0          PC 17599  71.2833   C85        C   Mrs  \n",
       "2      0  STON/O2. 3101282   7.9250   NaN        S  Miss  \n",
       "3      0            113803  53.1000  C123        S   Mrs  \n",
       "4      0            373450   8.0500   NaN        S    Mr  "
      ]
     },
     "execution_count": 88,
     "metadata": {},
     "output_type": "execute_result"
    }
   ],
   "source": [
    "del df['median_age']\n",
    "df.head()"
   ]
  },
  {
   "cell_type": "markdown",
   "metadata": {},
   "source": [
    "### 1.2 Impute Missing Fare Values\n"
   ]
  },
  {
   "cell_type": "code",
   "execution_count": 89,
   "metadata": {},
   "outputs": [
    {
     "name": "stdout",
     "output_type": "stream",
     "text": [
      "Cabin: C85\t\t Fare: 71.2833\n",
      "Cabin: C123\t\t Fare: 53.1\n",
      "Cabin: E46\t\t Fare: 51.8625\n",
      "Cabin: G6\t\t Fare: 16.7\n",
      "Cabin: C103\t\t Fare: 26.55\n",
      "Cabin: D56\t\t Fare: 13.0\n",
      "Cabin: A6\t\t Fare: 35.5\n",
      "Cabin: C23 C25 C27\t\t Fare: 263.0\n",
      "Cabin: B78\t\t Fare: 146.5208\n",
      "Cabin: D33\t\t Fare: 76.7292\n",
      "Cabin: B30\t\t Fare: 61.9792\n",
      "Cabin: C52\t\t Fare: 35.5\n",
      "Cabin: B28\t\t Fare: 80.0\n",
      "Cabin: C83\t\t Fare: 83.475\n",
      "Cabin: F33\t\t Fare: 10.5\n",
      "Cabin: F G73\t\t Fare: 7.65\n",
      "Cabin: C23 C25 C27\t\t Fare: 263.0\n",
      "Cabin: E31\t\t Fare: 61.175\n",
      "Cabin: A5\t\t Fare: 34.6542\n",
      "Cabin: D10 D12\t\t Fare: 63.3583\n",
      "Cabin: D26\t\t Fare: 77.2875\n",
      "Cabin: C110\t\t Fare: 52.0\n",
      "Cabin: B58 B60\t\t Fare: 247.5208\n",
      "Cabin: E101\t\t Fare: 13.0\n",
      "Cabin: D26\t\t Fare: 77.2875\n",
      "Cabin: F E69\t\t Fare: 22.3583\n",
      "Cabin: D47\t\t Fare: 26.2833\n",
      "Cabin: C123\t\t Fare: 53.1\n",
      "Cabin: B86\t\t Fare: 79.2\n",
      "Cabin: F2\t\t Fare: 26.0\n",
      "Cabin: C2\t\t Fare: 66.6\n",
      "Cabin: E33\t\t Fare: 55.0\n",
      "Cabin: B19\t\t Fare: 33.5\n",
      "Cabin: A7\t\t Fare: 30.6958\n",
      "Cabin: C49\t\t Fare: 28.7125\n",
      "Cabin: F4\t\t Fare: 39.0\n",
      "Cabin: A32\t\t Fare: 50.0\n",
      "Cabin: F2\t\t Fare: 26.0\n",
      "Cabin: B4\t\t Fare: 27.7208\n",
      "Cabin: B80\t\t Fare: 146.5208\n",
      "Cabin: G6\t\t Fare: 10.4625\n",
      "Cabin: A31\t\t Fare: 31.0\n",
      "Cabin: D36\t\t Fare: 113.275\n",
      "Cabin: D15\t\t Fare: 76.2917\n",
      "Cabin: C93\t\t Fare: 90.0\n",
      "Cabin: C83\t\t Fare: 83.475\n",
      "Cabin: C78\t\t Fare: 90.0\n",
      "Cabin: D35\t\t Fare: 52.5542\n",
      "Cabin: G6\t\t Fare: 10.4625\n",
      "Cabin: C87\t\t Fare: 26.55\n",
      "Cabin: B77\t\t Fare: 86.5\n",
      "Cabin: E67\t\t Fare: 79.65\n",
      "Cabin: B94\t\t Fare: 0.0\n",
      "Cabin: C125\t\t Fare: 153.4625\n",
      "Cabin: C99\t\t Fare: 135.6333\n",
      "Cabin: C118\t\t Fare: 29.7\n",
      "Cabin: D7\t\t Fare: 77.9583\n",
      "Cabin: A19\t\t Fare: 26.0\n",
      "Cabin: B49\t\t Fare: 91.0792\n",
      "Cabin: D\t\t Fare: 12.875\n",
      "Cabin: C22 C26\t\t Fare: 151.55\n",
      "Cabin: C106\t\t Fare: 30.5\n",
      "Cabin: B58 B60\t\t Fare: 247.5208\n",
      "Cabin: E101\t\t Fare: 12.35\n",
      "Cabin: C22 C26\t\t Fare: 151.55\n",
      "Cabin: C65\t\t Fare: 108.9\n",
      "Cabin: E36\t\t Fare: 56.9292\n",
      "Cabin: C54\t\t Fare: 83.1583\n",
      "Cabin: B57 B59 B63 B66\t\t Fare: 262.375\n",
      "Cabin: C7\t\t Fare: 164.8667\n",
      "Cabin: E34\t\t Fare: 134.5\n",
      "Cabin: C32\t\t Fare: 135.6333\n",
      "Cabin: D\t\t Fare: 13.0\n",
      "Cabin: B18\t\t Fare: 57.9792\n",
      "Cabin: C124\t\t Fare: 28.5\n",
      "Cabin: C91\t\t Fare: 153.4625\n",
      "Cabin: C2\t\t Fare: 66.6\n",
      "Cabin: E40\t\t Fare: 134.5\n",
      "Cabin: T\t\t Fare: 35.5\n",
      "Cabin: F2\t\t Fare: 26.0\n",
      "Cabin: C23 C25 C27\t\t Fare: 263.0\n",
      "Cabin: F33\t\t Fare: 13.0\n",
      "Cabin: C128\t\t Fare: 35.0\n",
      "Cabin: E33\t\t Fare: 55.0\n",
      "Cabin: D37\t\t Fare: 75.25\n",
      "Cabin: B35\t\t Fare: 69.3\n",
      "Cabin: E50\t\t Fare: 55.4417\n",
      "Cabin: C82\t\t Fare: 211.5\n",
      "Cabin: B96 B98\t\t Fare: 120.0\n",
      "Cabin: D36\t\t Fare: 113.275\n",
      "Cabin: G6\t\t Fare: 16.7\n",
      "Cabin: C78\t\t Fare: 90.0\n",
      "Cabin: E10\t\t Fare: 8.05\n",
      "Cabin: C52\t\t Fare: 26.55\n",
      "Cabin: E44\t\t Fare: 55.9\n",
      "Cabin: B96 B98\t\t Fare: 120.0\n",
      "Cabin: C23 C25 C27\t\t Fare: 263.0\n",
      "Cabin: A34\t\t Fare: 81.8583\n",
      "Cabin: C104\t\t Fare: 30.5\n",
      "Cabin: C111\t\t Fare: 27.75\n",
      "Cabin: C92\t\t Fare: 89.1042\n",
      "Cabin: E38\t\t Fare: 26.55\n",
      "Cabin: D21\t\t Fare: 51.8625\n",
      "Cabin: E12\t\t Fare: 26.55\n",
      "Cabin: E63\t\t Fare: 38.5\n",
      "Cabin: D\t\t Fare: 13.7917\n",
      "Cabin: A14\t\t Fare: 52.0\n",
      "Cabin: B49\t\t Fare: 91.0792\n",
      "Cabin: C93\t\t Fare: 90.0\n",
      "Cabin: B37\t\t Fare: 29.7\n",
      "Cabin: C30\t\t Fare: 30.5\n",
      "Cabin: D20\t\t Fare: 78.2667\n",
      "Cabin: C22 C26\t\t Fare: 151.55\n",
      "Cabin: B79\t\t Fare: 86.5\n",
      "Cabin: C65\t\t Fare: 108.9\n",
      "Cabin: E25\t\t Fare: 26.2875\n",
      "Cabin: D46\t\t Fare: 34.0208\n",
      "Cabin: F33\t\t Fare: 10.5\n",
      "Cabin: B73\t\t Fare: 93.5\n",
      "Cabin: B18\t\t Fare: 57.9792\n",
      "Cabin: C95\t\t Fare: 221.7792\n",
      "Cabin: B38\t\t Fare: 26.55\n",
      "Cabin: B39\t\t Fare: 49.5\n",
      "Cabin: B22\t\t Fare: 71.0\n",
      "Cabin: C86\t\t Fare: 106.425\n",
      "Cabin: C70\t\t Fare: 110.8833\n",
      "Cabin: A16\t\t Fare: 39.6\n",
      "Cabin: E67\t\t Fare: 79.65\n",
      "Cabin: C101\t\t Fare: 51.4792\n",
      "Cabin: E25\t\t Fare: 26.3875\n",
      "Cabin: E44\t\t Fare: 55.9\n",
      "Cabin: C68\t\t Fare: 110.8833\n",
      "Cabin: A10\t\t Fare: 40.125\n",
      "Cabin: E68\t\t Fare: 79.65\n",
      "Cabin: B41\t\t Fare: 79.2\n",
      "Cabin: D20\t\t Fare: 78.2667\n",
      "Cabin: A20\t\t Fare: 56.9292\n",
      "Cabin: C125\t\t Fare: 153.4625\n",
      "Cabin: F4\t\t Fare: 39.0\n",
      "Cabin: D19\t\t Fare: 52.5542\n",
      "Cabin: D50\t\t Fare: 32.3208\n",
      "Cabin: D9\t\t Fare: 77.9583\n",
      "Cabin: A23\t\t Fare: 30.0\n",
      "Cabin: B50\t\t Fare: 30.5\n",
      "Cabin: B35\t\t Fare: 69.3\n",
      "Cabin: D33\t\t Fare: 76.7292\n",
      "Cabin: A26\t\t Fare: 35.5\n",
      "Cabin: D48\t\t Fare: 113.275\n",
      "Cabin: E58\t\t Fare: 25.5875\n",
      "Cabin: C126\t\t Fare: 52.0\n",
      "Cabin: B71\t\t Fare: 52.0\n",
      "Cabin: B51 B53 B55\t\t Fare: 512.3292\n",
      "Cabin: D49\t\t Fare: 76.7292\n",
      "Cabin: B5\t\t Fare: 211.3375\n",
      "Cabin: B20\t\t Fare: 57.0\n",
      "Cabin: C68\t\t Fare: 110.8833\n",
      "Cabin: F G63\t\t Fare: 7.65\n",
      "Cabin: C62 C64\t\t Fare: 227.525\n",
      "Cabin: E24\t\t Fare: 26.2875\n",
      "Cabin: E24\t\t Fare: 26.2875\n",
      "Cabin: C90\t\t Fare: 49.5042\n",
      "Cabin: C124\t\t Fare: 26.55\n",
      "Cabin: C126\t\t Fare: 52.0\n",
      "Cabin: F G73\t\t Fare: 7.65\n",
      "Cabin: C45\t\t Fare: 227.525\n",
      "Cabin: E101\t\t Fare: 10.5\n",
      "Cabin: E8\t\t Fare: 53.1\n",
      "Cabin: B5\t\t Fare: 211.3375\n",
      "Cabin: B101\t\t Fare: 512.3292\n",
      "Cabin: D45\t\t Fare: 30.0\n",
      "Cabin: C46\t\t Fare: 78.85\n",
      "Cabin: B57 B59 B63 B66\t\t Fare: 262.375\n",
      "Cabin: B22\t\t Fare: 71.0\n",
      "Cabin: D30\t\t Fare: 53.1\n",
      "Cabin: E121\t\t Fare: 12.475\n",
      "Cabin: B77\t\t Fare: 86.5\n",
      "Cabin: B96 B98\t\t Fare: 120.0\n",
      "Cabin: D11\t\t Fare: 77.9583\n",
      "Cabin: E77\t\t Fare: 10.5\n",
      "Cabin: F38\t\t Fare: 7.75\n",
      "Cabin: B3\t\t Fare: 211.3375\n",
      "Cabin: B20\t\t Fare: 57.0\n",
      "Cabin: D6\t\t Fare: 30.0\n",
      "Cabin: B82 B84\t\t Fare: 79.2\n",
      "Cabin: D17\t\t Fare: 25.9292\n",
      "Cabin: B96 B98\t\t Fare: 120.0\n",
      "Cabin: A36\t\t Fare: 0.0\n",
      "Cabin: E8\t\t Fare: 53.1\n",
      "Cabin: B102\t\t Fare: 0.0\n",
      "Cabin: B69\t\t Fare: 93.5\n",
      "Cabin: E121\t\t Fare: 12.475\n",
      "Cabin: B28\t\t Fare: 80.0\n",
      "Cabin: E49\t\t Fare: 83.1583\n",
      "Cabin: C47\t\t Fare: 29.7\n",
      "Cabin: C92\t\t Fare: 89.1042\n",
      "Cabin: D28\t\t Fare: 39.4\n",
      "Cabin: E17\t\t Fare: 26.55\n",
      "Cabin: D17\t\t Fare: 25.9292\n",
      "Cabin: A24\t\t Fare: 50.4958\n",
      "Cabin: D35\t\t Fare: 52.5542\n",
      "Cabin: B51 B53 B55\t\t Fare: 5.0\n",
      "Cabin: C50\t\t Fare: 83.1583\n",
      "Cabin: B42\t\t Fare: 30.0\n",
      "Cabin: C148\t\t Fare: 30.0\n"
     ]
    }
   ],
   "source": [
    "for index, row in df.iterrows():\n",
    "    if pd.notna(row['Cabin']):\n",
    "        print(f\"Cabin: {row['Cabin']}\\t\\t Fare: {row['Fare']}\")"
   ]
  },
  {
   "cell_type": "code",
   "execution_count": 90,
   "metadata": {},
   "outputs": [],
   "source": [
    "df['Cabin_Class'] = df['Cabin'].str[0]\n",
    "\n",
    "median_cabin_fare = df.groupby('Cabin_Class')['Fare'].median().to_dict()"
   ]
  },
  {
   "cell_type": "markdown",
   "metadata": {},
   "source": [
    "This is the median fare for the missing cabin values according the the class"
   ]
  },
  {
   "cell_type": "code",
   "execution_count": 91,
   "metadata": {},
   "outputs": [
    {
     "data": {
      "text/plain": [
       "{'A': 35.5,\n",
       " 'B': 80.0,\n",
       " 'C': 83.475,\n",
       " 'D': 53.1,\n",
       " 'E': 45.18125,\n",
       " 'F': 13.0,\n",
       " 'G': 13.58125,\n",
       " 'T': 35.5}"
      ]
     },
     "execution_count": 91,
     "metadata": {},
     "output_type": "execute_result"
    }
   ],
   "source": [
    "median_cabin_fare"
   ]
  },
  {
   "cell_type": "code",
   "execution_count": 92,
   "metadata": {},
   "outputs": [],
   "source": [
    "def assign_cabin(fare):\n",
    "    closest_cabin = min(median_cabin_fare.keys(), key=lambda c : abs(median_cabin_fare[c] - fare))\n",
    "    # the above line will iterate over the dict and give us the most probable value for the cabin\n",
    "    return closest_cabin"
   ]
  },
  {
   "cell_type": "code",
   "execution_count": 93,
   "metadata": {},
   "outputs": [],
   "source": [
    "df.loc[df['Cabin'].isna(), 'Cabin'] = df.loc[df['Cabin'].isna(), 'Fare'].apply(assign_cabin)"
   ]
  },
  {
   "cell_type": "code",
   "execution_count": 94,
   "metadata": {},
   "outputs": [],
   "source": [
    "df.drop(columns=['Cabin_Class'], inplace=True)"
   ]
  },
  {
   "cell_type": "code",
   "execution_count": 95,
   "metadata": {},
   "outputs": [],
   "source": [
    "df.loc[df['Embarked'].isna(), 'Embarked'] = df['Embarked'].mode()[0]"
   ]
  },
  {
   "cell_type": "code",
   "execution_count": 96,
   "metadata": {},
   "outputs": [
    {
     "data": {
      "text/plain": [
       "PassengerId    0\n",
       "Survived       0\n",
       "Pclass         0\n",
       "Name           0\n",
       "Sex            0\n",
       "Age            0\n",
       "SibSp          0\n",
       "Parch          0\n",
       "Ticket         0\n",
       "Fare           0\n",
       "Cabin          0\n",
       "Embarked       0\n",
       "Title          0\n",
       "dtype: int64"
      ]
     },
     "execution_count": 96,
     "metadata": {},
     "output_type": "execute_result"
    }
   ],
   "source": [
    "df.isnull().sum()"
   ]
  },
  {
   "cell_type": "markdown",
   "metadata": {},
   "source": [
    "## Data Visualisation\n",
    "- Now that we have cleaned our data we can perform data visualisation on it\n",
    "**Plots:**\n",
    "- Title vs Age \n",
    "- Countplot of the survived according to Titles i.e., survived count vs Title\n",
    "- Stripplot Male vs Female survived (swarmplot was giving an error)\n",
    "- Fare vs Count Histogram"
   ]
  },
  {
   "cell_type": "markdown",
   "metadata": {},
   "source": [
    "### Title vs Age"
   ]
  },
  {
   "cell_type": "code",
   "execution_count": null,
   "metadata": {},
   "outputs": [
    {
     "data": {
      "image/png": "[encoded data removed]",
      "text/plain": [
       "<Figure size 640x480 with 1 Axes>"
      ]
     },
     "metadata": {},
     "output_type": "display_data"
    }
   ],
   "source": [
    "sns.barplot(x='Title', y='Age', data=df, estimator=np.median, hue='Title', palette='Blues')\n",
    "# plt.xticks(rotation=45)\n",
    "plt.show()"
   ]
  },
  {
   "cell_type": "markdown",
   "metadata": {},
   "source": [
    "### Countplot of the survived titles"
   ]
  },
  {
   "cell_type": "code",
   "execution_count": 98,
   "metadata": {},
   "outputs": [
    {
     "data": {
      "image/png": "[encoded data removed]",
      "text/plain": [
       "<Figure size 640x480 with 1 Axes>"
      ]
     },
     "metadata": {},
     "output_type": "display_data"
    }
   ],
   "source": [
    "sns.countplot(x='Title', data=df, palette='hls', hue='Survived')\n",
    "# plt.xticks(rotation=45)\n",
    "plt.show()"
   ]
  },
  {
   "cell_type": "markdown",
   "metadata": {},
   "source": [
    "### Stripplot of Male vs Female survived"
   ]
  },
  {
   "cell_type": "code",
   "execution_count": 103,
   "metadata": {},
   "outputs": [
    {
     "name": "stderr",
     "output_type": "stream",
     "text": [
      "/home/home/Coding-practice/Pict-Practicals/.venv/lib/python3.12/site-packages/seaborn/categorical.py:3399: UserWarning: 62.6% of the points cannot be placed; you may want to decrease the size of the markers or use stripplot.\n",
      "  warnings.warn(msg, UserWarning)\n",
      "/home/home/Coding-practice/Pict-Practicals/.venv/lib/python3.12/site-packages/seaborn/categorical.py:3399: UserWarning: 37.3% of the points cannot be placed; you may want to decrease the size of the markers or use stripplot.\n",
      "  warnings.warn(msg, UserWarning)\n",
      "/home/home/Coding-practice/Pict-Practicals/.venv/lib/python3.12/site-packages/seaborn/categorical.py:3399: UserWarning: 72.4% of the points cannot be placed; you may want to decrease the size of the markers or use stripplot.\n",
      "  warnings.warn(msg, UserWarning)\n",
      "/home/home/Coding-practice/Pict-Practicals/.venv/lib/python3.12/site-packages/seaborn/categorical.py:3399: UserWarning: 49.4% of the points cannot be placed; you may want to decrease the size of the markers or use stripplot.\n",
      "  warnings.warn(msg, UserWarning)\n",
      "/home/home/Coding-practice/Pict-Practicals/.venv/lib/python3.12/site-packages/seaborn/categorical.py:3399: UserWarning: 72.8% of the points cannot be placed; you may want to decrease the size of the markers or use stripplot.\n",
      "  warnings.warn(msg, UserWarning)\n"
     ]
    },
    {
     "data": {
      "image/png": "[encoded data removed]",
      "text/plain": [
       "<Figure size 640x480 with 1 Axes>"
      ]
     },
     "metadata": {},
     "output_type": "display_data"
    }
   ],
   "source": [
    "sns.swarmplot(x='Sex', y='Fare', hue='Survived', data=df, edgecolor=\"black\",alpha=.5, s=5,linewidth=1.0)\n",
    "plt.show()"
   ]
  },
  {
   "cell_type": "code",
   "execution_count": 109,
   "metadata": {},
   "outputs": [
    {
     "data": {
      "image/png": "[encoded data removed]",
      "text/plain": [
       "<Figure size 1200x600 with 1 Axes>"
      ]
     },
     "metadata": {},
     "output_type": "display_data"
    }
   ],
   "source": [
    "sns.set_style(\"ticks\")\n",
    "plt.figure(figsize=(12, 6))\n",
    "sns.histplot(df[\"Fare\"], bins=30, kde=True, color=\"blue\")\n",
    "\n",
    "plt.xlabel(\"Fare Price ($)\", fontsize=12)\n",
    "plt.ylabel(\"Count\", fontsize=12)\n",
    "plt.title(\"Distribution of Ticket Prices (Fare) on Titanic\", fontsize=14)\n",
    "\n",
    "plt.show()\n"
   ]
  },
  {
   "cell_type": "code",
   "execution_count": null,
   "metadata": {},
   "outputs": [],
   "source": []
  }
 ],
 "metadata": {
  "kernelspec": {
   "display_name": ".venv",
   "language": "python",
   "name": "python3"
  },
  "language_info": {
   "codemirror_mode": {
    "name": "ipython",
    "version": 3
   },
   "file_extension": ".py",
   "mimetype": "text/x-python",
   "name": "python",
   "nbconvert_exporter": "python",
   "pygments_lexer": "ipython3",
   "version": "3.12.3"
  }
 },
 "nbformat": 4,
 "nbformat_minor": 2
}
