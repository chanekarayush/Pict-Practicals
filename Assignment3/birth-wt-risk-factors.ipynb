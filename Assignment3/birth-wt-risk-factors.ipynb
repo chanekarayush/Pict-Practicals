{
 "cells": [
  {
   "cell_type": "code",
   "execution_count": 5,
   "metadata": {},
   "outputs": [],
   "source": [
    "import pandas as pd\n",
    "import numpy as np\n",
    "from scipy.stats import pearsonr\n",
    "import statsmodels.api as sm"
   ]
  },
  {
   "cell_type": "code",
   "execution_count": 3,
   "metadata": {},
   "outputs": [],
   "source": [
    "url = 'https://media.githubusercontent.com/media/neurospin/pystatsml/refs/heads/master/datasets/birthwt.csv'\n",
    "df = pd.DataFrame\n",
    "try:\n",
    "    df = pd.read_csv(url)\n",
    "except Exception as e:\n",
    "    print(f'An error occurred while fetching the data {e}\\nUsing local save instead')\n",
    "    df = pd.read_csv('birthwt.csv')\n"
   ]
  },
  {
   "cell_type": "code",
   "execution_count": 4,
   "metadata": {},
   "outputs": [
    {
     "data": {
      "text/html": [
       "<div>\n",
       "<style scoped>\n",
       "    .dataframe tbody tr th:only-of-type {\n",
       "        vertical-align: middle;\n",
       "    }\n",
       "\n",
       "    .dataframe tbody tr th {\n",
       "        vertical-align: top;\n",
       "    }\n",
       "\n",
       "    .dataframe thead th {\n",
       "        text-align: right;\n",
       "    }\n",
       "</style>\n",
       "<table border=\"1\" class=\"dataframe\">\n",
       "  <thead>\n",
       "    <tr style=\"text-align: right;\">\n",
       "      <th></th>\n",
       "      <th>low</th>\n",
       "      <th>age</th>\n",
       "      <th>lwt</th>\n",
       "      <th>race</th>\n",
       "      <th>smoke</th>\n",
       "      <th>ptl</th>\n",
       "      <th>ht</th>\n",
       "      <th>ui</th>\n",
       "      <th>ftv</th>\n",
       "      <th>bwt</th>\n",
       "    </tr>\n",
       "  </thead>\n",
       "  <tbody>\n",
       "    <tr>\n",
       "      <th>0</th>\n",
       "      <td>0</td>\n",
       "      <td>19</td>\n",
       "      <td>182</td>\n",
       "      <td>2</td>\n",
       "      <td>0</td>\n",
       "      <td>0</td>\n",
       "      <td>0</td>\n",
       "      <td>1</td>\n",
       "      <td>0</td>\n",
       "      <td>2523</td>\n",
       "    </tr>\n",
       "    <tr>\n",
       "      <th>1</th>\n",
       "      <td>0</td>\n",
       "      <td>33</td>\n",
       "      <td>155</td>\n",
       "      <td>3</td>\n",
       "      <td>0</td>\n",
       "      <td>0</td>\n",
       "      <td>0</td>\n",
       "      <td>0</td>\n",
       "      <td>3</td>\n",
       "      <td>2551</td>\n",
       "    </tr>\n",
       "    <tr>\n",
       "      <th>2</th>\n",
       "      <td>0</td>\n",
       "      <td>20</td>\n",
       "      <td>105</td>\n",
       "      <td>1</td>\n",
       "      <td>1</td>\n",
       "      <td>0</td>\n",
       "      <td>0</td>\n",
       "      <td>0</td>\n",
       "      <td>1</td>\n",
       "      <td>2557</td>\n",
       "    </tr>\n",
       "    <tr>\n",
       "      <th>3</th>\n",
       "      <td>0</td>\n",
       "      <td>21</td>\n",
       "      <td>108</td>\n",
       "      <td>1</td>\n",
       "      <td>1</td>\n",
       "      <td>0</td>\n",
       "      <td>0</td>\n",
       "      <td>1</td>\n",
       "      <td>2</td>\n",
       "      <td>2594</td>\n",
       "    </tr>\n",
       "    <tr>\n",
       "      <th>4</th>\n",
       "      <td>0</td>\n",
       "      <td>18</td>\n",
       "      <td>107</td>\n",
       "      <td>1</td>\n",
       "      <td>1</td>\n",
       "      <td>0</td>\n",
       "      <td>0</td>\n",
       "      <td>1</td>\n",
       "      <td>0</td>\n",
       "      <td>2600</td>\n",
       "    </tr>\n",
       "    <tr>\n",
       "      <th>5</th>\n",
       "      <td>0</td>\n",
       "      <td>21</td>\n",
       "      <td>124</td>\n",
       "      <td>3</td>\n",
       "      <td>0</td>\n",
       "      <td>0</td>\n",
       "      <td>0</td>\n",
       "      <td>0</td>\n",
       "      <td>0</td>\n",
       "      <td>2622</td>\n",
       "    </tr>\n",
       "    <tr>\n",
       "      <th>6</th>\n",
       "      <td>0</td>\n",
       "      <td>22</td>\n",
       "      <td>118</td>\n",
       "      <td>1</td>\n",
       "      <td>0</td>\n",
       "      <td>0</td>\n",
       "      <td>0</td>\n",
       "      <td>0</td>\n",
       "      <td>1</td>\n",
       "      <td>2637</td>\n",
       "    </tr>\n",
       "    <tr>\n",
       "      <th>7</th>\n",
       "      <td>0</td>\n",
       "      <td>17</td>\n",
       "      <td>103</td>\n",
       "      <td>3</td>\n",
       "      <td>0</td>\n",
       "      <td>0</td>\n",
       "      <td>0</td>\n",
       "      <td>0</td>\n",
       "      <td>1</td>\n",
       "      <td>2637</td>\n",
       "    </tr>\n",
       "    <tr>\n",
       "      <th>8</th>\n",
       "      <td>0</td>\n",
       "      <td>29</td>\n",
       "      <td>123</td>\n",
       "      <td>1</td>\n",
       "      <td>1</td>\n",
       "      <td>0</td>\n",
       "      <td>0</td>\n",
       "      <td>0</td>\n",
       "      <td>1</td>\n",
       "      <td>2663</td>\n",
       "    </tr>\n",
       "    <tr>\n",
       "      <th>9</th>\n",
       "      <td>0</td>\n",
       "      <td>26</td>\n",
       "      <td>113</td>\n",
       "      <td>1</td>\n",
       "      <td>1</td>\n",
       "      <td>0</td>\n",
       "      <td>0</td>\n",
       "      <td>0</td>\n",
       "      <td>0</td>\n",
       "      <td>2665</td>\n",
       "    </tr>\n",
       "  </tbody>\n",
       "</table>\n",
       "</div>"
      ],
      "text/plain": [
       "   low  age  lwt  race  smoke  ptl  ht  ui  ftv   bwt\n",
       "0    0   19  182     2      0    0   0   1    0  2523\n",
       "1    0   33  155     3      0    0   0   0    3  2551\n",
       "2    0   20  105     1      1    0   0   0    1  2557\n",
       "3    0   21  108     1      1    0   0   1    2  2594\n",
       "4    0   18  107     1      1    0   0   1    0  2600\n",
       "5    0   21  124     3      0    0   0   0    0  2622\n",
       "6    0   22  118     1      0    0   0   0    1  2637\n",
       "7    0   17  103     3      0    0   0   0    1  2637\n",
       "8    0   29  123     1      1    0   0   0    1  2663\n",
       "9    0   26  113     1      1    0   0   0    0  2665"
      ]
     },
     "execution_count": 4,
     "metadata": {},
     "output_type": "execute_result"
    }
   ],
   "source": [
    "df.head(10)"
   ]
  },
  {
   "cell_type": "markdown",
   "metadata": {},
   "source": [
    "### What is the relationship between bwt and age ? \n",
    "### Correlation test and linear regeression."
   ]
  },
  {
   "cell_type": "markdown",
   "metadata": {},
   "source": [
    "### Correlation Analysis\n",
    "Correlation Analysis is statistical method that is used to discover \\\n",
    "if there is a relationship between two variables/datasets, and how strong that relationship may be.\n",
    "\n",
    "Spearman’s Rank and Pearson’s Coefficient are the two most widely used analytical \\\n",
    "formulae depending on the types of data researchers have to hand:\\\n",
    "**Spearman’s Rank Correlation Coefficient**\\\n",
    "used to see if there is any significant relationship between the two datasets, and operates under the assumption that the data being used is ordinal, which here means that the numbers do not indicate quantity, but rather they signify a position of place of the subject’s standing\n",
    "\\\n",
    "This coefficient requires a table of data which displays the raw data, it’s ranks, and the different between the two ranks.\\\n",
    "This squared difference between the two ranks will be shown on a scatter graph, which will clearly indicate whether there is a positive correlation, negative correlation, or no correlation at all between the two variables.\n",
    "\n",
    "**Pearson Product-Moment Coefficient**\\\n",
    "This is the most widely used correlation analysis formula, which measures the strength of the ‘linear’ relationships between the raw data from both variables, rather than their ranks. \\\n",
    "This is an dimensionless coefficient, meaning that there are no data-related boundaries to be considered when conducting analyses with this formula, which is a reason why this coefficient is the first formula researchers try.\\ \n",
    "if the relationship between the data is not linear, then that is when this particular coefficient will not accurately represent the relationship between the two variables, and when Spearman’s Rank must be implemented instead.\n",
    "\\\n",
    "\\\n",
    "Pearson’s coefficient requires the relevant data must be inputted into a table similar to that of Spearman’s Rank but without the ranks, and the result produced will be in the numerical form which all correlation coefficients produce, including Spearman’s Rank and Pearson’s Coefficient: -1 ≤ r ≤ +1."
   ]
  },
  {
   "cell_type": "code",
   "execution_count": 6,
   "metadata": {},
   "outputs": [],
   "source": [
    "r_age_bwt, r_val = pearsonr(df['age'], df['bwt'])"
   ]
  },
  {
   "cell_type": "code",
   "execution_count": 8,
   "metadata": {},
   "outputs": [
    {
     "name": "stdout",
     "output_type": "stream",
     "text": [
      "Correlation between Age and Birth Weight: 0.09031781366853263, p-value: 0.2164752418551913\n"
     ]
    }
   ],
   "source": [
    "print(f\"Correlation between Age and Birth Weight: {r_age_bwt}, p-value: {r_val}\")"
   ]
  },
  {
   "cell_type": "code",
   "execution_count": 9,
   "metadata": {},
   "outputs": [
    {
     "name": "stdout",
     "output_type": "stream",
     "text": [
      "                            OLS Regression Results                            \n",
      "==============================================================================\n",
      "Dep. Variable:                    bwt   R-squared:                       0.008\n",
      "Model:                            OLS   Adj. R-squared:                  0.003\n",
      "Method:                 Least Squares   F-statistic:                     1.538\n",
      "Date:                Fri, 04 Oct 2024   Prob (F-statistic):              0.216\n",
      "Time:                        10:37:30   Log-Likelihood:                -1512.8\n",
      "No. Observations:                 189   AIC:                             3030.\n",
      "Df Residuals:                     187   BIC:                             3036.\n",
      "Df Model:                           1                                         \n",
      "Covariance Type:            nonrobust                                         \n",
      "==============================================================================\n",
      "                 coef    std err          t      P>|t|      [0.025      0.975]\n",
      "------------------------------------------------------------------------------\n",
      "const       2655.7445    238.857     11.119      0.000    2184.544    3126.945\n",
      "age           12.4297     10.023      1.240      0.216      -7.343      32.202\n",
      "==============================================================================\n",
      "Omnibus:                        2.779   Durbin-Watson:                   0.186\n",
      "Prob(Omnibus):                  0.249   Jarque-Bera (JB):                2.692\n",
      "Skew:                          -0.291   Prob(JB):                        0.260\n",
      "Kurtosis:                       2.951   Cond. No.                         108.\n",
      "==============================================================================\n",
      "\n",
      "Notes:\n",
      "[1] Standard Errors assume that the covariance matrix of the errors is correctly specified.\n"
     ]
    }
   ],
   "source": [
    "X_age = sm.add_constant(df['age'])\n",
    "model_age = sm.OLS(df['bwt'], X_age).fit()\n",
    "print(model_age.summary())"
   ]
  },
  {
   "cell_type": "code",
   "execution_count": 10,
   "metadata": {},
   "outputs": [
    {
     "name": "stdout",
     "output_type": "stream",
     "text": [
      "Correlation between Mother’s Weight and Birth Weight: 0.1857, p-value: 0.0105\n"
     ]
    }
   ],
   "source": [
    "# Correlation test (mother's weight and birth weight)\n",
    "corr_lwt_bwt, p_value_lwt_bwt = pearsonr(df['lwt'], df['bwt'])\n",
    "print(f\"Correlation between Mother’s Weight and Birth Weight: {corr_lwt_bwt:.4f}, p-value: {p_value_lwt_bwt:.4f}\")\n"
   ]
  },
  {
   "cell_type": "code",
   "execution_count": 11,
   "metadata": {},
   "outputs": [
    {
     "name": "stdout",
     "output_type": "stream",
     "text": [
      "                            OLS Regression Results                            \n",
      "==============================================================================\n",
      "Dep. Variable:                    bwt   R-squared:                       0.034\n",
      "Model:                            OLS   Adj. R-squared:                  0.029\n",
      "Method:                 Least Squares   F-statistic:                     6.681\n",
      "Date:                Fri, 04 Oct 2024   Prob (F-statistic):             0.0105\n",
      "Time:                        10:40:18   Log-Likelihood:                -1510.2\n",
      "No. Observations:                 189   AIC:                             3024.\n",
      "Df Residuals:                     187   BIC:                             3031.\n",
      "Df Model:                           1                                         \n",
      "Covariance Type:            nonrobust                                         \n",
      "==============================================================================\n",
      "                 coef    std err          t      P>|t|      [0.025      0.975]\n",
      "------------------------------------------------------------------------------\n",
      "const       2369.6235    228.493     10.371      0.000    1918.868    2820.379\n",
      "lwt            4.4291      1.713      2.585      0.011       1.049       7.809\n",
      "==============================================================================\n",
      "Omnibus:                        2.099   Durbin-Watson:                   0.265\n",
      "Prob(Omnibus):                  0.350   Jarque-Bera (JB):                1.757\n",
      "Skew:                          -0.223   Prob(JB):                        0.415\n",
      "Kurtosis:                       3.153   Cond. No.                         583.\n",
      "==============================================================================\n",
      "\n",
      "Notes:\n",
      "[1] Standard Errors assume that the covariance matrix of the errors is correctly specified.\n"
     ]
    }
   ],
   "source": [
    "X_lwt = sm.add_constant(df['lwt'])\n",
    "model_age = sm.OLS(df['bwt'], X_lwt).fit()\n",
    "print(model_age.summary())"
   ]
  },
  {
   "cell_type": "code",
   "execution_count": 15,
   "metadata": {},
   "outputs": [],
   "source": [
    "import matplotlib.pyplot as plt\n",
    "import seaborn as sns"
   ]
  },
  {
   "cell_type": "code",
   "execution_count": 19,
   "metadata": {},
   "outputs": [
    {
     "data": {
      "image/png": "[encoded data removed]",
      "text/plain": [
       "<Figure size 1200x500 with 2 Axes>"
      ]
     },
     "metadata": {},
     "output_type": "display_data"
    }
   ],
   "source": [
    "plt.figure(figsize=(12, 5))\n",
    "\n",
    "# Scatter plot: Age vs Birth Weight\n",
    "plt.subplot(1, 2, 1)\n",
    "sns.scatterplot(x=df['age'], y=df['bwt'], color=\"blue\")\n",
    "plt.title(\"Age vs Birth Weight\")\n",
    "plt.xlabel(\"Mother's Age\")\n",
    "plt.ylabel(\"Birth Weight\")\n",
    "\n",
    "# Scatter plot: Mother's Weight vs Birth Weight\n",
    "plt.subplot(1, 2, 2)\n",
    "sns.scatterplot(x=df['lwt'], y=df['bwt'], color=\"green\")\n",
    "plt.title(\"Mother's Weight vs Birth Weight\")\n",
    "plt.xlabel(\"Mother's Weight (lwt)\")\n",
    "plt.ylabel(\"Birth Weight\")\n",
    "\n",
    "plt.tight_layout()\n",
    "plt.show()"
   ]
  },
  {
   "cell_type": "markdown",
   "metadata": {},
   "source": [
    "## Conclusion\n",
    "1. The correlation coefficient: A value closer to 1 or -1 indicates a stronger relationship.\n",
    "2. The p-value: A p-value < 0.05 typically suggests that the association is statistically significant.\n",
    "3. The scatter plots show the general trend, whether there is a positive or negative correlation between the variables."
   ]
  },
  {
   "cell_type": "markdown",
   "metadata": {},
   "source": []
  }
 ],
 "metadata": {
  "kernelspec": {
   "display_name": "Python 3",
   "language": "python",
   "name": "python3"
  },
  "language_info": {
   "codemirror_mode": {
    "name": "ipython",
    "version": 3
   },
   "file_extension": ".py",
   "mimetype": "text/x-python",
   "name": "python",
   "nbconvert_exporter": "python",
   "pygments_lexer": "ipython3",
   "version": "3.11.5"
  }
 },
 "nbformat": 4,
 "nbformat_minor": 2
}
