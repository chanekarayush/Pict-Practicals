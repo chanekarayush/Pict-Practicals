{
 "cells": [
  {
   "cell_type": "code",
   "execution_count": 8,
   "id": "ecae19a7",
   "metadata": {},
   "outputs": [],
   "source": [
    "import pandas as pd"
   ]
  },
  {
   "cell_type": "code",
   "execution_count": 9,
   "id": "409b1444",
   "metadata": {},
   "outputs": [],
   "source": [
    "df = pd.read_csv('./Income_expense_data.csv')"
   ]
  },
  {
   "cell_type": "code",
   "execution_count": 10,
   "id": "d4bd2a7c",
   "metadata": {},
   "outputs": [
    {
     "data": {
      "text/html": [
       "<div>\n",
       "<style scoped>\n",
       "    .dataframe tbody tr th:only-of-type {\n",
       "        vertical-align: middle;\n",
       "    }\n",
       "\n",
       "    .dataframe tbody tr th {\n",
       "        vertical-align: top;\n",
       "    }\n",
       "\n",
       "    .dataframe thead th {\n",
       "        text-align: right;\n",
       "    }\n",
       "</style>\n",
       "<table border=\"1\" class=\"dataframe\">\n",
       "  <thead>\n",
       "    <tr style=\"text-align: right;\">\n",
       "      <th></th>\n",
       "      <th>REF_DATE</th>\n",
       "      <th>GEO</th>\n",
       "      <th>Statistic</th>\n",
       "      <th>Before-tax household income quintile</th>\n",
       "      <th>Household expenditures, summary-level categories</th>\n",
       "      <th>UOM</th>\n",
       "      <th>COORDINATE</th>\n",
       "      <th>Expense</th>\n",
       "      <th>Family type</th>\n",
       "      <th>Age of older adult</th>\n",
       "      <th>Family income</th>\n",
       "      <th>Income</th>\n",
       "    </tr>\n",
       "  </thead>\n",
       "  <tbody>\n",
       "    <tr>\n",
       "      <th>0</th>\n",
       "      <td>2010</td>\n",
       "      <td>Province 1</td>\n",
       "      <td>Average expenditure per household</td>\n",
       "      <td>All quintiles</td>\n",
       "      <td>Total expenditure</td>\n",
       "      <td>Dollars</td>\n",
       "      <td>C1</td>\n",
       "      <td>72075.0</td>\n",
       "      <td>Couple families</td>\n",
       "      <td>Total all ages</td>\n",
       "      <td>All income groups</td>\n",
       "      <td>7989380.0</td>\n",
       "    </tr>\n",
       "    <tr>\n",
       "      <th>1</th>\n",
       "      <td>2010</td>\n",
       "      <td>Province 1</td>\n",
       "      <td>Average expenditure per household</td>\n",
       "      <td>All quintiles</td>\n",
       "      <td>Food purchased from stores</td>\n",
       "      <td>Dollars</td>\n",
       "      <td>C2</td>\n",
       "      <td>5709.0</td>\n",
       "      <td>Couple families</td>\n",
       "      <td>Total all ages</td>\n",
       "      <td>Under $10,000</td>\n",
       "      <td>189700.0</td>\n",
       "    </tr>\n",
       "    <tr>\n",
       "      <th>2</th>\n",
       "      <td>2010</td>\n",
       "      <td>Province 1</td>\n",
       "      <td>Average expenditure per household</td>\n",
       "      <td>All quintiles</td>\n",
       "      <td>Food purchased from restaurants</td>\n",
       "      <td>Dollars</td>\n",
       "      <td>C3</td>\n",
       "      <td>2141.0</td>\n",
       "      <td>Couple families</td>\n",
       "      <td>Total all ages</td>\n",
       "      <td>$10,000 and over</td>\n",
       "      <td>7799670.0</td>\n",
       "    </tr>\n",
       "    <tr>\n",
       "      <th>3</th>\n",
       "      <td>2010</td>\n",
       "      <td>Province 1</td>\n",
       "      <td>Average expenditure per household</td>\n",
       "      <td>All quintiles</td>\n",
       "      <td>Shelter</td>\n",
       "      <td>Dollars</td>\n",
       "      <td>C4</td>\n",
       "      <td>15020.0</td>\n",
       "      <td>Couple families</td>\n",
       "      <td>Total all ages</td>\n",
       "      <td>$15,000 and over</td>\n",
       "      <td>7695970.0</td>\n",
       "    </tr>\n",
       "    <tr>\n",
       "      <th>4</th>\n",
       "      <td>2010</td>\n",
       "      <td>Province 1</td>\n",
       "      <td>Average expenditure per household</td>\n",
       "      <td>All quintiles</td>\n",
       "      <td>Principal accommodation</td>\n",
       "      <td>Dollars</td>\n",
       "      <td>C5</td>\n",
       "      <td>13586.0</td>\n",
       "      <td>Couple families</td>\n",
       "      <td>Total all ages</td>\n",
       "      <td>$20,000 and over</td>\n",
       "      <td>7552050.0</td>\n",
       "    </tr>\n",
       "  </tbody>\n",
       "</table>\n",
       "</div>"
      ],
      "text/plain": [
       "   REF_DATE         GEO                          Statistic  \\\n",
       "0      2010  Province 1  Average expenditure per household   \n",
       "1      2010  Province 1  Average expenditure per household   \n",
       "2      2010  Province 1  Average expenditure per household   \n",
       "3      2010  Province 1  Average expenditure per household   \n",
       "4      2010  Province 1  Average expenditure per household   \n",
       "\n",
       "  Before-tax household income quintile  \\\n",
       "0                        All quintiles   \n",
       "1                        All quintiles   \n",
       "2                        All quintiles   \n",
       "3                        All quintiles   \n",
       "4                        All quintiles   \n",
       "\n",
       "  Household expenditures, summary-level categories      UOM COORDINATE  \\\n",
       "0                                Total expenditure  Dollars         C1   \n",
       "1                       Food purchased from stores  Dollars         C2   \n",
       "2                  Food purchased from restaurants  Dollars         C3   \n",
       "3                                          Shelter  Dollars         C4   \n",
       "4                          Principal accommodation  Dollars         C5   \n",
       "\n",
       "   Expense      Family type Age of older adult      Family income     Income  \n",
       "0  72075.0  Couple families     Total all ages  All income groups  7989380.0  \n",
       "1   5709.0  Couple families     Total all ages      Under $10,000   189700.0  \n",
       "2   2141.0  Couple families     Total all ages   $10,000 and over  7799670.0  \n",
       "3  15020.0  Couple families     Total all ages   $15,000 and over  7695970.0  \n",
       "4  13586.0  Couple families     Total all ages   $20,000 and over  7552050.0  "
      ]
     },
     "execution_count": 10,
     "metadata": {},
     "output_type": "execute_result"
    }
   ],
   "source": [
    "df.head()"
   ]
  },
  {
   "cell_type": "code",
   "execution_count": 11,
   "id": "f2ffc2de",
   "metadata": {},
   "outputs": [],
   "source": [
    "df = df['Expense']"
   ]
  },
  {
   "cell_type": "code",
   "execution_count": 12,
   "id": "8b93d117",
   "metadata": {},
   "outputs": [
    {
     "data": {
      "text/plain": [
       "0    72075.0\n",
       "1     5709.0\n",
       "2     2141.0\n",
       "3    15020.0\n",
       "4    13586.0\n",
       "Name: Expense, dtype: float64"
      ]
     },
     "execution_count": 12,
     "metadata": {},
     "output_type": "execute_result"
    }
   ],
   "source": [
    "df.head()"
   ]
  },
  {
   "cell_type": "code",
   "execution_count": 14,
   "id": "7fb0bf97",
   "metadata": {},
   "outputs": [],
   "source": [
    "df.to_csv('Expense.csv', index=False)"
   ]
  },
  {
   "cell_type": "code",
   "execution_count": null,
   "id": "c48ea370",
   "metadata": {},
   "outputs": [],
   "source": []
  }
 ],
 "metadata": {
  "kernelspec": {
   "display_name": ".venv",
   "language": "python",
   "name": "python3"
  },
  "language_info": {
   "codemirror_mode": {
    "name": "ipython",
    "version": 3
   },
   "file_extension": ".py",
   "mimetype": "text/x-python",
   "name": "python",
   "nbconvert_exporter": "python",
   "pygments_lexer": "ipython3",
   "version": "3.12.0"
  }
 },
 "nbformat": 4,
 "nbformat_minor": 5
}
