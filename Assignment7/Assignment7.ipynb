{
 "cells": [
  {
   "cell_type": "markdown",
   "metadata": {},
   "source": [
    "# Assignment 7\n",
    "## Roll Number `31311`\n",
    "### Text Analytics\n",
    "- Extract Sample document and apply following document preprocessing methods: \n",
    "    - Tokenization, POS Tagging, stop words removal, Stemming and Lemmatization.\n",
    "- Create representation of document by calculating: \n",
    "    - Term Frequency  \n",
    "    - Inverse Document Frequency."
   ]
  },
  {
   "cell_type": "code",
   "execution_count": null,
   "metadata": {},
   "outputs": [],
   "source": []
  }
 ],
 "metadata": {
  "kernelspec": {
   "display_name": ".venv",
   "language": "python",
   "name": "python3"
  },
  "language_info": {
   "name": "python",
   "version": "3.12.3"
  }
 },
 "nbformat": 4,
 "nbformat_minor": 2
}
